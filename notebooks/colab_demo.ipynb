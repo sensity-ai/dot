{
 "cells": [
  {
   "cell_type": "markdown",
   "metadata": {},
   "source": [
    "# Deepfake Offensive Toolkit\n",
    "\n",
    "> **Disclaimer**: This notebook is primarily used for demo purposes on Google Colab.\n",
    "\n",
    "**Note**: We recommend running this notebook on Google Colab with GPU enabled.\n",
    "\n",
    "To enable GPU, do the following: \n",
    "\n",
    "`Click \"Runtime\" tab > select \"Change runtime type\" option > set \"Hardware accelerator\" to \"GPU\"`\n",
    "\n",
    "### Install Notebook Pre-requisites:\n",
    "\n",
    "We install the following pre-requisities:\n",
    "- `ffmpeg`\n",
    "- `conda` (via [condacolab](https://github.com/conda-incubator/condacolab))\n",
    "\n",
    "Note: The notebook session will restart after installing the pre-requisites. \n",
    "\n",
    "**RUN THE BELOW CELL ONLY ONCE.**\n",
    "\n",
    "**ONCE THE NOTEBOOK SESSION RESTARTS, SKIP THIS CELL MOVE TO \"STEP 1\" SECTION OF THIS NOTEBOOK**"
   ]
  },
  {
   "cell_type": "code",
   "execution_count": null,
   "metadata": {},
   "outputs": [],
   "source": [
    "# install linux pre-requisites\n",
    "!sudo apt install ffmpeg\n",
    "\n",
    "# install miniconda3\n",
    "!pip install -q condacolab\n",
    "import condacolab\n",
    "condacolab.install_miniconda()\n"
   ]
  },
  {
   "cell_type": "markdown",
   "metadata": {},
   "source": [
    "## Step 1 - Clone Repository"
   ]
  },
  {
   "cell_type": "code",
   "execution_count": null,
   "metadata": {},
   "outputs": [],
   "source": [
    "import os\n",
    "os.chdir('/content')\n",
    "CODE_DIR = 'dot'\n"
   ]
  },
  {
   "cell_type": "code",
   "execution_count": null,
   "metadata": {},
   "outputs": [],
   "source": [
    "!git clone https://github.com/sensity-ai/dot.git $CODE_DIR\n"
   ]
  },
  {
   "cell_type": "code",
   "execution_count": null,
   "metadata": {},
   "outputs": [],
   "source": [
    "os.chdir(f'./{CODE_DIR}')\n"
   ]
  },
  {
   "cell_type": "markdown",
   "metadata": {},
   "source": [
    "## Step 2 - Setup Conda Environment"
   ]
  },
  {
   "cell_type": "code",
   "execution_count": null,
   "metadata": {},
   "outputs": [],
   "source": [
    "# update base conda environment: install python=3.8 + cudatoolkit=11.3\n",
    "!conda install python=3.8 cudatoolkit=11.3\n",
    "\n",
    "# install pip requirements\n",
    "!pip install llvmlite==0.36.0 onnxruntime-gpu==1.9.0\n",
    "!pip install torch torchvision --extra-index-url https://download.pytorch.org/whl/cu113\n",
    "!pip install -r requirements.txt\n",
    "\n",
    "# install dot\n",
    "!pip install -e .\n"
   ]
  },
  {
   "cell_type": "markdown",
   "metadata": {},
   "source": [
    "## Step 2 - Download Pretrained models"
   ]
  },
  {
   "cell_type": "code",
   "execution_count": null,
   "metadata": {},
   "outputs": [],
   "source": [
    "# download binaries\n",
    "! wget https://github.com/sensity-ai/dot/releases/download/1.0.0/dot_model_checkpoints.z01 \\\n",
    "&& wget https://github.com/sensity-ai/dot/releases/download/1.0.0/dot_model_checkpoints.z02 \\\n",
    "&& wget https://github.com/sensity-ai/dot/releases/download/1.0.0/dot_model_checkpoints.zip\n",
    "\n",
    "# unzip binaries\n",
    "! zip -s 0 dot_model_checkpoints.zip --out saved_models.zip \\\n",
    "&& unzip saved_models.zip\n",
    "\n",
    "# clean-up\n",
    "!rm -rf *.z*\n"
   ]
  },
  {
   "cell_type": "markdown",
   "metadata": {},
   "source": [
    "## Step 3: Run dot on image and video files instead of camera feed\n",
    "\n",
    "### Using SimSwap on Images\n"
   ]
  },
  {
   "cell_type": "code",
   "execution_count": null,
   "metadata": {},
   "outputs": [],
   "source": [
    "!dot \\\n",
    "-c ./configs/simswap.yaml \\\n",
    "--target \"data/\" \\\n",
    "--source \"data/\" \\\n",
    "--save_folder \"image_simswap_output/\" \\\n",
    "--use_image \\\n",
    "--use_gpu\n"
   ]
  },
  {
   "cell_type": "markdown",
   "metadata": {},
   "source": [
    "### Using SimSwap on Videos"
   ]
  },
  {
   "cell_type": "code",
   "execution_count": null,
   "metadata": {},
   "outputs": [],
   "source": [
    "!python scripts/video_swap.py \\\n",
    "-s \"data/\" \\\n",
    "-t \"data/\" \\\n",
    "-o \"video_simswap_output/\" \\\n",
    "-d 5 \\\n",
    "-l 5\n"
   ]
  },
  {
   "cell_type": "code",
   "execution_count": null,
   "metadata": {},
   "outputs": [],
   "source": []
  }
 ],
 "metadata": {
  "accelerator": "GPU",
  "colab": {
   "collapsed_sections": [],
   "name": "colab_demo.ipynb",
   "provenance": []
  },
  "gpuClass": "standard",
  "kernelspec": {
   "display_name": "Python 3 (ipykernel)",
   "language": "python",
   "name": "python3"
  },
  "language_info": {
   "codemirror_mode": {
    "name": "ipython",
    "version": 3
   },
   "file_extension": ".py",
   "mimetype": "text/x-python",
   "name": "python",
   "nbconvert_exporter": "python",
   "pygments_lexer": "ipython3"
  }
 },
 "nbformat": 4,
 "nbformat_minor": 0
}
